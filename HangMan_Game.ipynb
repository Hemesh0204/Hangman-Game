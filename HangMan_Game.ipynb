{
  "nbformat": 4,
  "nbformat_minor": 0,
  "metadata": {
    "colab": {
      "name": "HangMan-Game.ipynb",
      "provenance": [],
      "collapsed_sections": [],
      "authorship_tag": "ABX9TyNLuZeonqMIistskuWWn+SP",
      "include_colab_link": true
    },
    "kernelspec": {
      "name": "python3",
      "display_name": "Python 3"
    },
    "language_info": {
      "name": "python"
    }
  },
  "cells": [
    {
      "cell_type": "markdown",
      "metadata": {
        "id": "view-in-github",
        "colab_type": "text"
      },
      "source": [
        "<a href=\"https://colab.research.google.com/github/Hemesh0204/Hangman-Game/blob/main/HangMan_Game.ipynb\" target=\"_parent\"><img src=\"https://colab.research.google.com/assets/colab-badge.svg\" alt=\"Open In Colab\"/></a>"
      ]
    },
    {
      "cell_type": "code",
      "metadata": {
        "id": "tCoWByZaTw43"
      },
      "source": [
        "from random import choice"
      ],
      "execution_count": null,
      "outputs": []
    },
    {
      "cell_type": "code",
      "metadata": {
        "id": "DlZbwH6wb_HJ"
      },
      "source": [
        "def word_gen():\n",
        "    with open(\"wordlist.txt\",\"r\") as f:\n",
        "        lines = f.readlines()\n",
        "    f.close()\n",
        "    lines = [i.strip(\"\\n\") for i in lines]\n",
        "    return choice(words_list)"
      ],
      "execution_count": null,
      "outputs": []
    },
    {
      "cell_type": "code",
      "metadata": {
        "id": "kPkfZQbEcA20"
      },
      "source": [
        "nword = word_gen()\n",
        "guessed = \"\"\n",
        "turns = int(len(word)*1.5)\n",
        "            \n",
        "while True:\n",
        "    inp = input(\"  enter a guess  \")\n",
        "    turns -= 1\n",
        "    \n",
        "    if inp in word:\n",
        "        guessed = guessed +inp\n",
        "    unguessed_char = 0\n",
        "    for i in word:\n",
        "        if i in guessed:\n",
        "            print(i,end=\"\")\n",
        "        else:\n",
        "            unguessed_char += 1\n",
        "            print(\"*\",end=\"\")\n",
        "\n",
        "    if unguessed_char == 0:\n",
        "        print(\"\\n you won\")\n",
        "        break\n",
        "    if turns == 0:\n",
        "        print(\"\\n you lost\")\n",
        "        break"
      ],
      "execution_count": null,
      "outputs": []
    },
    {
      "cell_type": "code",
      "metadata": {
        "id": "OacHi5e9mCc3"
      },
      "source": [
        ""
      ],
      "execution_count": null,
      "outputs": []
    }
  ]
}